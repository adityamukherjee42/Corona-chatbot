{
 "cells": [
  {
   "cell_type": "code",
   "execution_count": 1,
   "metadata": {},
   "outputs": [],
   "source": [
    "# Importing libraries and headers\n",
    "import requests\n",
    "import re\n",
    "from bs4 import BeautifulSoup\n",
    "import pandas as pd\n",
    "import numpy as np\n",
    "import string\n",
    "from urllib.request import Request, urlopen\n",
    "import time\n",
    "headers = {'User-Agent': \n",
    "           'Mozilla/5.0 (X11; Linux x86_64) AppleWebKit/537.36 (KHTML, like Gecko) Chrome/47.0.2526.106 Safari/537.36'}"
   ]
  },
  {
   "cell_type": "code",
   "execution_count": null,
   "metadata": {},
   "outputs": [],
   "source": [
    "h_name = input(\"Enter name and dont include 'Hospital'\")"
   ]
  },
  {
   "cell_type": "code",
   "execution_count": null,
   "metadata": {},
   "outputs": [],
   "source": [
    "#df2 is the dataframe for available hospital\n",
    "\n",
    "#df3 us the dataframe for searched hospital\n",
    "\n",
    "\n",
    "st_time = time.time()\n",
    "req = Request('https://vmc.gov.in/Covid19VadodaraApp/HospitalBedsDetails.aspx?tid=12', headers= headers)    \n",
    "html = urlopen(req)\n",
    "dfs = pd.read_html(html)         \n",
    "len(dfs)\n",
    "df1 = dfs[0]\n",
    "df11= dfs[1]\n",
    "df2 =pd.DataFrame(columns = ['Hospital','Vacant','Mobile No'])\n",
    "df3 =pd.DataFrame(columns = ['Hospital','Vacant','Mobile No'])\n",
    "for i in range(0,len(df1)):\n",
    "    if(df1['Vacant'][i]>0):\n",
    "        #df22 = df1[df1[i]]\n",
    "        #df2.append(df1)\n",
    "        df2.loc[len(df2.index)] = [df1['Hospital Name'][i], df1['Vacant'][i], df1['Nodal Officer Mobile No'][i]]\n",
    "        #print(df1['Hospital Name'][i] + \":\" + str(df1['Vacant'][i]) + \":\" + str(df1['Nodal Officer Mobile No'][i]))\n",
    "df2.sort_values(by=['Vacant'],ascending = False,inplace = True)\n",
    "df2.reset_index(inplace = True,drop =True)\n",
    "for i in range(0,len(df11)):\n",
    "    if(df11['Vacant'][i]>0):\n",
    "        #df22 = df1[df1[i]]\n",
    "        #df2.append(df1)\n",
    "        df2.loc[len(df2.index)] = [df11['Hospital Name'][i], df11['Vacant'][i], df11['Nodal Officer Mobile No'][i]]\n",
    "        #print(df1['Hospital Name'][i] + \":\" + str(df1['Vacant'][i]) + \":\" + str(df1['Nodal Officer Mobile No'][i]))\n",
    "df2.sort_values(by=['Vacant'],ascending = False,inplace = True)\n",
    "df2.reset_index(inplace = True,drop =True)\n",
    "k = list()\n",
    "hname = h_name.split()\n",
    "for ii in hname:\n",
    "    for i in range(0,len(df2)):\n",
    "        k = df2['Hospital'][i].split()\n",
    "        for k1 in k:\n",
    "            k1 = k1.lower()\n",
    "            if(k1 == ii):\n",
    "                df3.loc[len(df3.index)] = [df2['Hospital'][i], df2['Vacant'][i], df2['Mobile No'][i]]\n",
    "\n",
    "\n",
    "# e_time = time.time()\n",
    "# print(e_time - st_time)\n",
    "df3.drop_duplicates(subset =\"Hospital\",\n",
    "                     keep = 'first', inplace = True)\n",
    "\n"
   ]
  },
  {
   "cell_type": "code",
   "execution_count": 1,
   "metadata": {},
   "outputs": [],
   "source": [
    "k=\"abcd\""
   ]
  },
  {
   "cell_type": "code",
   "execution_count": 2,
   "metadata": {},
   "outputs": [],
   "source": [
    "z=k.split()"
   ]
  },
  {
   "cell_type": "code",
   "execution_count": 5,
   "metadata": {},
   "outputs": [
    {
     "data": {
      "text/plain": [
       "'abcd'"
      ]
     },
     "execution_count": 5,
     "metadata": {},
     "output_type": "execute_result"
    }
   ],
   "source": [
    "z[0]"
   ]
  },
  {
   "cell_type": "code",
   "execution_count": null,
   "metadata": {},
   "outputs": [],
   "source": []
  }
 ],
 "metadata": {
  "kernelspec": {
   "display_name": "Python 3",
   "language": "python",
   "name": "python3"
  },
  "language_info": {
   "codemirror_mode": {
    "name": "ipython",
    "version": 3
   },
   "file_extension": ".py",
   "mimetype": "text/x-python",
   "name": "python",
   "nbconvert_exporter": "python",
   "pygments_lexer": "ipython3",
   "version": "3.7.4"
  }
 },
 "nbformat": 4,
 "nbformat_minor": 4
}
